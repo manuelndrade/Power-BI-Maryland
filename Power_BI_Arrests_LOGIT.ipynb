{
 "cells": [
  {
   "cell_type": "code",
   "execution_count": 1,
   "id": "e48464ec",
   "metadata": {},
   "outputs": [],
   "source": [
    "import pandas as pd\n",
    "import numpy as np\n",
    "import datetime as dt\n",
    "import matplotlib.pyplot as plt \n",
    "import seaborn as sns\n",
    "import os\n",
    "\n",
    "from statsmodels.formula.api import ols\n",
    "import statsmodels.api as sm\n",
    "import statsmodels.formula.api as smf \n",
    "\n",
    "# https://docs.h2o.ai/h2o/latest-stable/h2o-docs/data-science/glm.html\n",
    "from patsy import dmatrices\n",
    "\n",
    "#Import sklearn to run sklearn logistic reg model\n",
    "from sklearn.linear_model import LogisticRegression\n",
    "from sklearn.model_selection import train_test_split\n",
    "from sklearn.metrics import confusion_matrix, classification_report\n"
   ]
  },
  {
   "cell_type": "code",
   "execution_count": 2,
   "id": "a4b02fbc",
   "metadata": {},
   "outputs": [],
   "source": [
    "os.getcwd()\n",
    "df = pd.read_csv(\"traffic_violation_query.csv\")"
   ]
  },
  {
   "cell_type": "code",
   "execution_count": 3,
   "id": "f157529f",
   "metadata": {},
   "outputs": [
    {
     "data": {
      "text/html": [
       "<div>\n",
       "<style scoped>\n",
       "    .dataframe tbody tr th:only-of-type {\n",
       "        vertical-align: middle;\n",
       "    }\n",
       "\n",
       "    .dataframe tbody tr th {\n",
       "        vertical-align: top;\n",
       "    }\n",
       "\n",
       "    .dataframe thead th {\n",
       "        text-align: right;\n",
       "    }\n",
       "</style>\n",
       "<table border=\"1\" class=\"dataframe\">\n",
       "  <thead>\n",
       "    <tr style=\"text-align: right;\">\n",
       "      <th></th>\n",
       "      <th>Date_Key</th>\n",
       "      <th>driver_age</th>\n",
       "      <th>driver_gender</th>\n",
       "      <th>driver_race</th>\n",
       "      <th>drugs_related_stop</th>\n",
       "      <th>search_conducted</th>\n",
       "      <th>stop_date</th>\n",
       "      <th>stop_duration</th>\n",
       "      <th>stop_outcome</th>\n",
       "      <th>stop_time</th>\n",
       "      <th>violation</th>\n",
       "      <th>violation_raw</th>\n",
       "    </tr>\n",
       "  </thead>\n",
       "  <tbody>\n",
       "    <tr>\n",
       "      <th>0</th>\n",
       "      <td>2</td>\n",
       "      <td>20</td>\n",
       "      <td>M</td>\n",
       "      <td>White</td>\n",
       "      <td>False</td>\n",
       "      <td>False</td>\n",
       "      <td>1/2/2005</td>\n",
       "      <td>0-15 Min</td>\n",
       "      <td>Citation</td>\n",
       "      <td>1:55:00 AM</td>\n",
       "      <td>Speeding</td>\n",
       "      <td>Speeding</td>\n",
       "    </tr>\n",
       "    <tr>\n",
       "      <th>1</th>\n",
       "      <td>18</td>\n",
       "      <td>40</td>\n",
       "      <td>M</td>\n",
       "      <td>White</td>\n",
       "      <td>False</td>\n",
       "      <td>False</td>\n",
       "      <td>1/18/2005</td>\n",
       "      <td>0-15 Min</td>\n",
       "      <td>Citation</td>\n",
       "      <td>8:15:00 AM</td>\n",
       "      <td>Speeding</td>\n",
       "      <td>Speeding</td>\n",
       "    </tr>\n",
       "    <tr>\n",
       "      <th>2</th>\n",
       "      <td>23</td>\n",
       "      <td>33</td>\n",
       "      <td>M</td>\n",
       "      <td>White</td>\n",
       "      <td>False</td>\n",
       "      <td>False</td>\n",
       "      <td>1/23/2005</td>\n",
       "      <td>0-15 Min</td>\n",
       "      <td>Citation</td>\n",
       "      <td>11:15:00 PM</td>\n",
       "      <td>Speeding</td>\n",
       "      <td>Speeding</td>\n",
       "    </tr>\n",
       "    <tr>\n",
       "      <th>3</th>\n",
       "      <td>51</td>\n",
       "      <td>19</td>\n",
       "      <td>M</td>\n",
       "      <td>White</td>\n",
       "      <td>False</td>\n",
       "      <td>False</td>\n",
       "      <td>2/20/2005</td>\n",
       "      <td>16+ Min</td>\n",
       "      <td>Arrest Driver</td>\n",
       "      <td>5:15:00 PM</td>\n",
       "      <td>Other</td>\n",
       "      <td>Other</td>\n",
       "    </tr>\n",
       "    <tr>\n",
       "      <th>4</th>\n",
       "      <td>73</td>\n",
       "      <td>21</td>\n",
       "      <td>F</td>\n",
       "      <td>White</td>\n",
       "      <td>False</td>\n",
       "      <td>False</td>\n",
       "      <td>3/14/2005</td>\n",
       "      <td>0-15 Min</td>\n",
       "      <td>Citation</td>\n",
       "      <td>10:00:00 AM</td>\n",
       "      <td>Speeding</td>\n",
       "      <td>Speeding</td>\n",
       "    </tr>\n",
       "  </tbody>\n",
       "</table>\n",
       "</div>"
      ],
      "text/plain": [
       "   Date_Key  driver_age driver_gender driver_race  drugs_related_stop  \\\n",
       "0         2          20             M       White               False   \n",
       "1        18          40             M       White               False   \n",
       "2        23          33             M       White               False   \n",
       "3        51          19             M       White               False   \n",
       "4        73          21             F       White               False   \n",
       "\n",
       "   search_conducted  stop_date stop_duration   stop_outcome    stop_time  \\\n",
       "0             False   1/2/2005      0-15 Min       Citation   1:55:00 AM   \n",
       "1             False  1/18/2005      0-15 Min       Citation   8:15:00 AM   \n",
       "2             False  1/23/2005      0-15 Min       Citation  11:15:00 PM   \n",
       "3             False  2/20/2005       16+ Min  Arrest Driver   5:15:00 PM   \n",
       "4             False  3/14/2005      0-15 Min       Citation  10:00:00 AM   \n",
       "\n",
       "  violation violation_raw  \n",
       "0  Speeding      Speeding  \n",
       "1  Speeding      Speeding  \n",
       "2  Speeding      Speeding  \n",
       "3     Other         Other  \n",
       "4  Speeding      Speeding  "
      ]
     },
     "execution_count": 3,
     "metadata": {},
     "output_type": "execute_result"
    }
   ],
   "source": [
    "df.head()"
   ]
  },
  {
   "cell_type": "code",
   "execution_count": 4,
   "id": "5b57376d",
   "metadata": {},
   "outputs": [],
   "source": [
    "#drop these columns\n",
    "df_logit = df.drop(columns={'Date_Key', 'stop_date', 'stop_time', 'violation_raw'})"
   ]
  },
  {
   "cell_type": "markdown",
   "id": "da1254d0",
   "metadata": {},
   "source": [
    "We are dropping date key because it is a key we use in the fact table in Power BI. Also, stop_date and stop_duration are dropped because they would cause too many categorical variables.\n",
    "Aside from this, violatin_raw was dropped because the categories are same as violation_raw. "
   ]
  },
  {
   "cell_type": "code",
   "execution_count": 5,
   "id": "d0f57136",
   "metadata": {},
   "outputs": [
    {
     "name": "stdout",
     "output_type": "stream",
     "text": [
      "{0: 'F', 1: 'M'}\n",
      "{0: 'Black', 1: 'Hispanic', 2: 'Other', 3: 'White'}\n",
      "{0: False, 1: True}\n",
      "{0: False, 1: True}\n",
      "{0: '0-15 Min', 1: '16+ Min'}\n",
      "{0: 'Equipment', 1: 'Moving violation', 2: 'Other', 3: 'Registration/plates', 4: 'Speeding'}\n",
      "{0: 'Arrest Driver', 1: 'Citation', 2: 'Other', 3: 'Warning'}\n"
     ]
    }
   ],
   "source": [
    "category_mapping = dict(enumerate(df_logit['driver_gender'].astype('category').cat.categories))\n",
    "print(category_mapping)\n",
    "\n",
    "category_mapping = dict(enumerate(df_logit['driver_race'].astype('category').cat.categories))\n",
    "print(category_mapping)\n",
    "\n",
    "category_mapping = dict(enumerate(df_logit['drugs_related_stop'].astype('category').cat.categories))\n",
    "print(category_mapping)\n",
    "\n",
    "category_mapping = dict(enumerate(df_logit['search_conducted'].astype('category').cat.categories))\n",
    "print(category_mapping)\n",
    "\n",
    "category_mapping = dict(enumerate(df_logit['stop_duration'].astype('category').cat.categories))\n",
    "print(category_mapping)\n",
    "\n",
    "category_mapping = dict(enumerate(df_logit['violation'].astype('category').cat.categories))\n",
    "print(category_mapping)\n",
    "\n",
    "category_mapping = dict(enumerate(df_logit['stop_outcome'].astype('category').cat.categories))\n",
    "print(category_mapping)"
   ]
  },
  {
   "cell_type": "code",
   "execution_count": 6,
   "id": "63be5163",
   "metadata": {},
   "outputs": [],
   "source": [
    "# convert strings to category types\n",
    "df_logit['driver_gender'] = df_logit['driver_gender'].astype('category')\n",
    "df_logit['driver_race'] = df_logit['driver_race'].astype('category')\n",
    "df_logit['drugs_related_stop'] = df_logit['drugs_related_stop'].astype('category')\n",
    "df_logit['search_conducted'] = df_logit['search_conducted'].astype('category')\n",
    "\n",
    "df_logit['stop_duration'] = df_logit['stop_duration'].astype('category')\n",
    "df_logit['violation'] = df_logit['violation'].astype('category')\n",
    "\n",
    "df_logit['stop_outcome'] = df_logit['stop_outcome'].astype('category')"
   ]
  },
  {
   "cell_type": "markdown",
   "id": "ca4a3711",
   "metadata": {},
   "source": [
    "We must convert varaibles that we consider to be categories to actual categories before running the model. This is because multinomial logistic regression does not do this in the background unlike binomial logistic regression. "
   ]
  },
  {
   "cell_type": "code",
   "execution_count": 7,
   "id": "fdd05a20",
   "metadata": {},
   "outputs": [
    {
     "name": "stdout",
     "output_type": "stream",
     "text": [
      "<class 'pandas.core.frame.DataFrame'>\n",
      "RangeIndex: 49193 entries, 0 to 49192\n",
      "Data columns (total 8 columns):\n",
      " #   Column              Non-Null Count  Dtype   \n",
      "---  ------              --------------  -----   \n",
      " 0   driver_age          49193 non-null  int64   \n",
      " 1   driver_gender       49193 non-null  category\n",
      " 2   driver_race         49193 non-null  category\n",
      " 3   drugs_related_stop  49193 non-null  category\n",
      " 4   search_conducted    49193 non-null  category\n",
      " 5   stop_duration       49193 non-null  category\n",
      " 6   stop_outcome        49193 non-null  category\n",
      " 7   violation           49193 non-null  category\n",
      "dtypes: category(7), int64(1)\n",
      "memory usage: 721.8 KB\n"
     ]
    }
   ],
   "source": [
    "df_logit.info()"
   ]
  },
  {
   "cell_type": "code",
   "execution_count": 8,
   "id": "ae1f4749",
   "metadata": {},
   "outputs": [
    {
     "data": {
      "text/html": [
       "<div>\n",
       "<style scoped>\n",
       "    .dataframe tbody tr th:only-of-type {\n",
       "        vertical-align: middle;\n",
       "    }\n",
       "\n",
       "    .dataframe tbody tr th {\n",
       "        vertical-align: top;\n",
       "    }\n",
       "\n",
       "    .dataframe thead th {\n",
       "        text-align: right;\n",
       "    }\n",
       "</style>\n",
       "<table border=\"1\" class=\"dataframe\">\n",
       "  <thead>\n",
       "    <tr style=\"text-align: right;\">\n",
       "      <th></th>\n",
       "      <th>driver_age</th>\n",
       "      <th>driver_gender</th>\n",
       "      <th>driver_race</th>\n",
       "      <th>drugs_related_stop</th>\n",
       "      <th>search_conducted</th>\n",
       "      <th>stop_duration</th>\n",
       "      <th>stop_outcome</th>\n",
       "      <th>violation</th>\n",
       "    </tr>\n",
       "  </thead>\n",
       "  <tbody>\n",
       "    <tr>\n",
       "      <th>0</th>\n",
       "      <td>20</td>\n",
       "      <td>M</td>\n",
       "      <td>White</td>\n",
       "      <td>False</td>\n",
       "      <td>False</td>\n",
       "      <td>0-15 Min</td>\n",
       "      <td>Citation</td>\n",
       "      <td>Speeding</td>\n",
       "    </tr>\n",
       "    <tr>\n",
       "      <th>1</th>\n",
       "      <td>40</td>\n",
       "      <td>M</td>\n",
       "      <td>White</td>\n",
       "      <td>False</td>\n",
       "      <td>False</td>\n",
       "      <td>0-15 Min</td>\n",
       "      <td>Citation</td>\n",
       "      <td>Speeding</td>\n",
       "    </tr>\n",
       "    <tr>\n",
       "      <th>2</th>\n",
       "      <td>33</td>\n",
       "      <td>M</td>\n",
       "      <td>White</td>\n",
       "      <td>False</td>\n",
       "      <td>False</td>\n",
       "      <td>0-15 Min</td>\n",
       "      <td>Citation</td>\n",
       "      <td>Speeding</td>\n",
       "    </tr>\n",
       "    <tr>\n",
       "      <th>3</th>\n",
       "      <td>19</td>\n",
       "      <td>M</td>\n",
       "      <td>White</td>\n",
       "      <td>False</td>\n",
       "      <td>False</td>\n",
       "      <td>16+ Min</td>\n",
       "      <td>Arrest Driver</td>\n",
       "      <td>Other</td>\n",
       "    </tr>\n",
       "    <tr>\n",
       "      <th>4</th>\n",
       "      <td>21</td>\n",
       "      <td>F</td>\n",
       "      <td>White</td>\n",
       "      <td>False</td>\n",
       "      <td>False</td>\n",
       "      <td>0-15 Min</td>\n",
       "      <td>Citation</td>\n",
       "      <td>Speeding</td>\n",
       "    </tr>\n",
       "  </tbody>\n",
       "</table>\n",
       "</div>"
      ],
      "text/plain": [
       "   driver_age driver_gender driver_race drugs_related_stop search_conducted  \\\n",
       "0          20             M       White              False            False   \n",
       "1          40             M       White              False            False   \n",
       "2          33             M       White              False            False   \n",
       "3          19             M       White              False            False   \n",
       "4          21             F       White              False            False   \n",
       "\n",
       "  stop_duration   stop_outcome violation  \n",
       "0      0-15 Min       Citation  Speeding  \n",
       "1      0-15 Min       Citation  Speeding  \n",
       "2      0-15 Min       Citation  Speeding  \n",
       "3       16+ Min  Arrest Driver     Other  \n",
       "4      0-15 Min       Citation  Speeding  "
      ]
     },
     "execution_count": 8,
     "metadata": {},
     "output_type": "execute_result"
    }
   ],
   "source": [
    "df_logit.head()"
   ]
  },
  {
   "cell_type": "code",
   "execution_count": 9,
   "id": "6a6c0be9",
   "metadata": {},
   "outputs": [],
   "source": [
    "category_mapping = {}\n",
    "for col in df_logit.columns:\n",
    "    if df_logit[col].dtype.name == 'category':\n",
    "        category_mapping[col] = dict(enumerate(df_logit[col].cat.categories))\n",
    "\n",
    "# Convert other categorical columns to codes\n",
    "for col in df_logit.columns:\n",
    "    if df_logit[col].dtype.name == 'category':\n",
    "        df_logit[col] = df_logit[col].cat.codes\n",
    "        "
   ]
  },
  {
   "cell_type": "markdown",
   "id": "385dcd7e",
   "metadata": {},
   "source": [
    "First, we will create an empty dictionary. This way we know what enurmation a category in a column belongs. To do so we use a for loop to loop through the columns and if a column is of a category data type then we will enumerate that column and assign it to a dictionary along with that column name. \n",
    "\n",
    "After converting category columns into category type, we must enconde them numerically to be processed in a multinomial logistic regression in python. Otherwise we will get an error. \n",
    "To do this we use a for loop to loop through all the columns and if the data type of a column is a category then we will encode this column. \n"
   ]
  },
  {
   "cell_type": "code",
   "execution_count": 10,
   "id": "65005961",
   "metadata": {},
   "outputs": [
    {
     "data": {
      "text/plain": [
       "{'driver_gender': {0: 'F', 1: 'M'},\n",
       " 'driver_race': {0: 'Black', 1: 'Hispanic', 2: 'Other', 3: 'White'},\n",
       " 'drugs_related_stop': {0: False, 1: True},\n",
       " 'search_conducted': {0: False, 1: True},\n",
       " 'stop_duration': {0: '0-15 Min', 1: '16+ Min'},\n",
       " 'stop_outcome': {0: 'Arrest Driver', 1: 'Citation', 2: 'Other', 3: 'Warning'},\n",
       " 'violation': {0: 'Equipment',\n",
       "  1: 'Moving violation',\n",
       "  2: 'Other',\n",
       "  3: 'Registration/plates',\n",
       "  4: 'Speeding'}}"
      ]
     },
     "execution_count": 10,
     "metadata": {},
     "output_type": "execute_result"
    }
   ],
   "source": [
    "category_mapping"
   ]
  },
  {
   "cell_type": "markdown",
   "id": "2c121c06",
   "metadata": {},
   "source": [
    "We may use this as reference whenever we need to. "
   ]
  },
  {
   "cell_type": "code",
   "execution_count": 11,
   "id": "5f5f0a61",
   "metadata": {
    "scrolled": true
   },
   "outputs": [
    {
     "data": {
      "text/html": [
       "<div>\n",
       "<style scoped>\n",
       "    .dataframe tbody tr th:only-of-type {\n",
       "        vertical-align: middle;\n",
       "    }\n",
       "\n",
       "    .dataframe tbody tr th {\n",
       "        vertical-align: top;\n",
       "    }\n",
       "\n",
       "    .dataframe thead th {\n",
       "        text-align: right;\n",
       "    }\n",
       "</style>\n",
       "<table border=\"1\" class=\"dataframe\">\n",
       "  <thead>\n",
       "    <tr style=\"text-align: right;\">\n",
       "      <th></th>\n",
       "      <th>driver_age</th>\n",
       "      <th>driver_gender</th>\n",
       "      <th>driver_race</th>\n",
       "      <th>drugs_related_stop</th>\n",
       "      <th>search_conducted</th>\n",
       "      <th>stop_duration</th>\n",
       "      <th>stop_outcome</th>\n",
       "      <th>violation</th>\n",
       "    </tr>\n",
       "  </thead>\n",
       "  <tbody>\n",
       "    <tr>\n",
       "      <th>0</th>\n",
       "      <td>20</td>\n",
       "      <td>1</td>\n",
       "      <td>3</td>\n",
       "      <td>0</td>\n",
       "      <td>0</td>\n",
       "      <td>0</td>\n",
       "      <td>1</td>\n",
       "      <td>4</td>\n",
       "    </tr>\n",
       "    <tr>\n",
       "      <th>1</th>\n",
       "      <td>40</td>\n",
       "      <td>1</td>\n",
       "      <td>3</td>\n",
       "      <td>0</td>\n",
       "      <td>0</td>\n",
       "      <td>0</td>\n",
       "      <td>1</td>\n",
       "      <td>4</td>\n",
       "    </tr>\n",
       "    <tr>\n",
       "      <th>2</th>\n",
       "      <td>33</td>\n",
       "      <td>1</td>\n",
       "      <td>3</td>\n",
       "      <td>0</td>\n",
       "      <td>0</td>\n",
       "      <td>0</td>\n",
       "      <td>1</td>\n",
       "      <td>4</td>\n",
       "    </tr>\n",
       "    <tr>\n",
       "      <th>3</th>\n",
       "      <td>19</td>\n",
       "      <td>1</td>\n",
       "      <td>3</td>\n",
       "      <td>0</td>\n",
       "      <td>0</td>\n",
       "      <td>1</td>\n",
       "      <td>0</td>\n",
       "      <td>2</td>\n",
       "    </tr>\n",
       "    <tr>\n",
       "      <th>4</th>\n",
       "      <td>21</td>\n",
       "      <td>0</td>\n",
       "      <td>3</td>\n",
       "      <td>0</td>\n",
       "      <td>0</td>\n",
       "      <td>0</td>\n",
       "      <td>1</td>\n",
       "      <td>4</td>\n",
       "    </tr>\n",
       "  </tbody>\n",
       "</table>\n",
       "</div>"
      ],
      "text/plain": [
       "   driver_age  driver_gender  driver_race  drugs_related_stop  \\\n",
       "0          20              1            3                   0   \n",
       "1          40              1            3                   0   \n",
       "2          33              1            3                   0   \n",
       "3          19              1            3                   0   \n",
       "4          21              0            3                   0   \n",
       "\n",
       "   search_conducted  stop_duration  stop_outcome  violation  \n",
       "0                 0              0             1          4  \n",
       "1                 0              0             1          4  \n",
       "2                 0              0             1          4  \n",
       "3                 0              1             0          2  \n",
       "4                 0              0             1          4  "
      ]
     },
     "execution_count": 11,
     "metadata": {},
     "output_type": "execute_result"
    }
   ],
   "source": [
    "df_logit.head()"
   ]
  },
  {
   "cell_type": "code",
   "execution_count": 12,
   "id": "6a1d3ad7",
   "metadata": {},
   "outputs": [],
   "source": [
    "df_logit = df_logit.rename(columns={'violation_Moving violation': 'violation_Moving', \n",
    "                                    'violation_Registration/plates':'violation_Registration_plates',\n",
    "                                   'stop_duration_0-15 Min': 'stop_duration_fif'})"
   ]
  },
  {
   "cell_type": "markdown",
   "id": "3bda661e",
   "metadata": {},
   "source": [
    "Here we are renaming these specific categories for these columns to prevent errors from happening when passing them through the model. Also, it will make them in python casing. "
   ]
  },
  {
   "cell_type": "code",
   "execution_count": 13,
   "id": "39dc1f78",
   "metadata": {
    "scrolled": true
   },
   "outputs": [
    {
     "name": "stdout",
     "output_type": "stream",
     "text": [
      "<class 'pandas.core.frame.DataFrame'>\n",
      "RangeIndex: 49193 entries, 0 to 49192\n",
      "Data columns (total 8 columns):\n",
      " #   Column              Non-Null Count  Dtype\n",
      "---  ------              --------------  -----\n",
      " 0   driver_age          49193 non-null  int64\n",
      " 1   driver_gender       49193 non-null  int8 \n",
      " 2   driver_race         49193 non-null  int8 \n",
      " 3   drugs_related_stop  49193 non-null  int8 \n",
      " 4   search_conducted    49193 non-null  int8 \n",
      " 5   stop_duration       49193 non-null  int8 \n",
      " 6   stop_outcome        49193 non-null  int8 \n",
      " 7   violation           49193 non-null  int8 \n",
      "dtypes: int64(1), int8(7)\n",
      "memory usage: 720.7 KB\n"
     ]
    }
   ],
   "source": [
    "df_logit.info()"
   ]
  },
  {
   "cell_type": "code",
   "execution_count": 14,
   "id": "aa69d742",
   "metadata": {},
   "outputs": [],
   "source": [
    "formula = \"stop_outcome ~ \" + \"+\".join(df_logit.columns.difference([\"stop_outcome\"]))"
   ]
  },
  {
   "cell_type": "code",
   "execution_count": 15,
   "id": "73f2ac09",
   "metadata": {},
   "outputs": [
    {
     "name": "stdout",
     "output_type": "stream",
     "text": [
      "Optimization terminated successfully.\n",
      "         Current function value: 0.275129\n",
      "         Iterations 8\n",
      "                          MNLogit Regression Results                          \n",
      "==============================================================================\n",
      "Dep. Variable:           stop_outcome   No. Observations:                49193\n",
      "Model:                        MNLogit   Df Residuals:                    49169\n",
      "Method:                           MLE   Df Model:                           21\n",
      "Date:                Thu, 16 Nov 2023   Pseudo R-squ.:                  0.1868\n",
      "Time:                        22:40:31   Log-Likelihood:                -13534.\n",
      "converged:                       True   LL-Null:                       -16643.\n",
      "Covariance Type:            nonrobust   LLR p-value:                     0.000\n",
      "======================================================================================\n",
      "    stop_outcome=1       coef    std err          z      P>|z|      [0.025      0.975]\n",
      "--------------------------------------------------------------------------------------\n",
      "Intercept              3.3436      0.131     25.469      0.000       3.086       3.601\n",
      "driver_age             0.0171      0.003      6.823      0.000       0.012       0.022\n",
      "driver_gender         -0.0959      0.073     -1.316      0.188      -0.239       0.047\n",
      "driver_race            0.0975      0.022      4.338      0.000       0.053       0.142\n",
      "drugs_related_stop     0.7119      0.136      5.227      0.000       0.445       0.979\n",
      "search_conducted      -2.4929      0.067    -36.975      0.000      -2.625      -2.361\n",
      "stop_duration         -2.1011      0.068    -30.680      0.000      -2.235      -1.967\n",
      "violation              0.2936      0.018     16.100      0.000       0.258       0.329\n",
      "--------------------------------------------------------------------------------------\n",
      "    stop_outcome=2       coef    std err          z      P>|z|      [0.025      0.975]\n",
      "--------------------------------------------------------------------------------------\n",
      "Intercept              1.2723      0.185      6.880      0.000       0.910       1.635\n",
      "driver_age             0.0086      0.004      2.246      0.025       0.001       0.016\n",
      "driver_gender         -0.5749      0.105     -5.474      0.000      -0.781      -0.369\n",
      "driver_race            0.0872      0.036      2.452      0.014       0.017       0.157\n",
      "drugs_related_stop     0.6778      0.222      3.059      0.002       0.244       1.112\n",
      "search_conducted      -0.8441      0.119     -7.069      0.000      -1.078      -0.610\n",
      "stop_duration         -1.7060      0.101    -16.937      0.000      -1.903      -1.509\n",
      "violation             -0.4076      0.030    -13.545      0.000      -0.467      -0.349\n",
      "--------------------------------------------------------------------------------------\n",
      "    stop_outcome=3       coef    std err          z      P>|z|      [0.025      0.975]\n",
      "--------------------------------------------------------------------------------------\n",
      "Intercept              0.4989      0.182      2.736      0.006       0.142       0.856\n",
      "driver_age             0.0232      0.003      6.802      0.000       0.017       0.030\n",
      "driver_gender         -0.2438      0.101     -2.425      0.015      -0.441      -0.047\n",
      "driver_race            0.2534      0.037      6.829      0.000       0.181       0.326\n",
      "drugs_related_stop     0.5214      0.513      1.016      0.309      -0.484       1.527\n",
      "search_conducted      -2.3818      0.228    -10.464      0.000      -2.828      -1.936\n",
      "stop_duration         -3.0100      0.114    -26.377      0.000      -3.234      -2.786\n",
      "violation             -0.1691      0.026     -6.528      0.000      -0.220      -0.118\n",
      "======================================================================================\n"
     ]
    }
   ],
   "source": [
    "# We want Multinomial Logit models\n",
    "model = sm.MNLogit.from_formula(formula, data=df_logit)\n",
    "result= model.fit()\n",
    "print(result.summary())"
   ]
  },
  {
   "cell_type": "markdown",
   "id": "30ff7141",
   "metadata": {},
   "source": [
    "The poor performing vairables in the outcomes were driver_gender, and drugs related stop because they are greater than 0.05, which means they fail the hypothesis test. "
   ]
  },
  {
   "cell_type": "code",
   "execution_count": 16,
   "id": "ed602031",
   "metadata": {},
   "outputs": [
    {
     "name": "stdout",
     "output_type": "stream",
     "text": [
      "[[0.0062129  0.97614778 0.00376784 0.01387149]\n",
      " [0.00441521 0.97672418 0.00317818 0.01568243]\n",
      " [0.00497642 0.97662522 0.0033736  0.01502476]\n",
      " ...\n",
      " [0.04943807 0.89511809 0.027905   0.02753885]\n",
      " [0.00516274 0.97251095 0.00580735 0.01651897]\n",
      " [0.00570489 0.97637902 0.00361121 0.01430489]]\n"
     ]
    }
   ],
   "source": [
    "predictions = result.predict()\n",
    "print(predictions)"
   ]
  },
  {
   "cell_type": "code",
   "execution_count": 17,
   "id": "fd16e900",
   "metadata": {},
   "outputs": [
    {
     "data": {
      "text/plain": [
       "numpy.ndarray"
      ]
     },
     "execution_count": 17,
     "metadata": {},
     "output_type": "execute_result"
    }
   ],
   "source": [
    "type(predictions)"
   ]
  },
  {
   "cell_type": "code",
   "execution_count": 18,
   "id": "952a5158",
   "metadata": {},
   "outputs": [
    {
     "data": {
      "text/plain": [
       "(49193, 4)"
      ]
     },
     "execution_count": 18,
     "metadata": {},
     "output_type": "execute_result"
    }
   ],
   "source": [
    "predictions.shape"
   ]
  },
  {
   "cell_type": "markdown",
   "id": "1432cf60",
   "metadata": {},
   "source": [
    "We use the the entire data set to make predictions and see the results. \n",
    "Note that this is just testing things out and we will later perform training and testing.\n",
    "\n",
    "Also, it is important to note that our predictions are stored as a numpy array and has 4 dimensions. It makes sense that there are 4 dimensions as there are 4 outcome categories. However, we must note that once we store our true outcomes into a variable it will be stored as a one dimension. The solution is to make it into 1 axis using argmax to change the axis. "
   ]
  },
  {
   "cell_type": "code",
   "execution_count": 19,
   "id": "e73c2df9",
   "metadata": {},
   "outputs": [],
   "source": [
    "predicted_classes = np.argmax(predictions, axis=1)"
   ]
  },
  {
   "cell_type": "code",
   "execution_count": 20,
   "id": "c6e857da",
   "metadata": {},
   "outputs": [
    {
     "data": {
      "text/plain": [
       "array([1, 1, 1, ..., 1, 1, 1], dtype=int64)"
      ]
     },
     "execution_count": 20,
     "metadata": {},
     "output_type": "execute_result"
    }
   ],
   "source": [
    "predicted_classes"
   ]
  },
  {
   "cell_type": "code",
   "execution_count": 21,
   "id": "41c36a52",
   "metadata": {},
   "outputs": [
    {
     "data": {
      "text/plain": [
       "(49193,)"
      ]
     },
     "execution_count": 21,
     "metadata": {},
     "output_type": "execute_result"
    }
   ],
   "source": [
    "predicted_classes.shape"
   ]
  },
  {
   "cell_type": "code",
   "execution_count": 22,
   "id": "8cd58000",
   "metadata": {},
   "outputs": [],
   "source": [
    "true_classes = df_logit['stop_outcome']"
   ]
  },
  {
   "cell_type": "code",
   "execution_count": 23,
   "id": "acb67aab",
   "metadata": {},
   "outputs": [
    {
     "data": {
      "text/plain": [
       "{'driver_gender': {0: 'F', 1: 'M'},\n",
       " 'driver_race': {0: 'Black', 1: 'Hispanic', 2: 'Other', 3: 'White'},\n",
       " 'drugs_related_stop': {0: False, 1: True},\n",
       " 'search_conducted': {0: False, 1: True},\n",
       " 'stop_duration': {0: '0-15 Min', 1: '16+ Min'},\n",
       " 'stop_outcome': {0: 'Arrest Driver', 1: 'Citation', 2: 'Other', 3: 'Warning'},\n",
       " 'violation': {0: 'Equipment',\n",
       "  1: 'Moving violation',\n",
       "  2: 'Other',\n",
       "  3: 'Registration/plates',\n",
       "  4: 'Speeding'}}"
      ]
     },
     "execution_count": 23,
     "metadata": {},
     "output_type": "execute_result"
    }
   ],
   "source": [
    "category_mapping"
   ]
  },
  {
   "cell_type": "code",
   "execution_count": 24,
   "id": "df23c6c5",
   "metadata": {},
   "outputs": [
    {
     "name": "stdout",
     "output_type": "stream",
     "text": [
      "[[  263  1375     0     0]\n",
      " [  280 45327     0     0]\n",
      " [   78   750     0     0]\n",
      " [   10  1110     0     0]]\n"
     ]
    }
   ],
   "source": [
    "conf_matrix = confusion_matrix(true_classes, predicted_classes)\n",
    "print(conf_matrix)"
   ]
  },
  {
   "cell_type": "markdown",
   "id": "31cc9dd0",
   "metadata": {},
   "source": [
    "Without digging deeper we already see some potential issues with our model right away. This is because he have categores but 2 of those columns have all 0s.\n",
    "\n",
    "We can see this in the following visulization we create up next."
   ]
  },
  {
   "cell_type": "code",
   "execution_count": 25,
   "id": "450a5819",
   "metadata": {},
   "outputs": [
    {
     "data": {
      "text/plain": [
       "Text(159.0, 0.5, 'Truth')"
      ]
     },
     "execution_count": 25,
     "metadata": {},
     "output_type": "execute_result"
    },
    {
     "data": {
      "image/png": "[encoded data removed]",
      "text/plain": [
       "<Figure size 1440x1080 with 2 Axes>"
      ]
     },
     "metadata": {
      "needs_background": "light"
     },
     "output_type": "display_data"
    }
   ],
   "source": [
    "plt.figure(figsize=(20,15))\n",
    "sns.heatmap(conf_matrix ,annot=True, fmt='.0f')\n",
    "plt.xlabel('Predicted')\n",
    "plt.ylabel('Truth')"
   ]
  },
  {
   "cell_type": "code",
   "execution_count": 26,
   "id": "818f1f71",
   "metadata": {
    "scrolled": true
   },
   "outputs": [
    {
     "name": "stdout",
     "output_type": "stream",
     "text": [
      "              precision    recall  f1-score   support\n",
      "\n",
      "           0       0.42      0.16      0.23      1638\n",
      "           1       0.93      0.99      0.96     45607\n",
      "           2       1.00      0.00      0.00       828\n",
      "           3       1.00      0.00      0.00      1120\n",
      "\n",
      "    accuracy                           0.93     49193\n",
      "   macro avg       0.84      0.29      0.30     49193\n",
      "weighted avg       0.92      0.93      0.90     49193\n",
      "\n"
     ]
    }
   ],
   "source": [
    "print(classification_report(true_classes, predicted_classes, zero_division=1)) \n",
    "# must use zero_division equal to 1 to avoid division by zero"
   ]
  },
  {
   "cell_type": "markdown",
   "id": "65dd8691",
   "metadata": {},
   "source": [
    "We have an issue! \n",
    "\n",
    "There are recalls of 0 for 2 and 3. This means that the model itself failed to identify any of positive instances. Thus, the model did not capture any of the true positives which resulted in a recall failure for the positive instances in the dataset. \n",
    "\n",
    "Likewise, classes 2 and 3 have an f1 score of 0, which is a result of of the recall being 0. This means that the model cannot identify any of the positive instances for these classes. Also, note that the precision is 1 for both these classes. Meaning that there is inability to balance precision and recall effectively.\n",
    "\n",
    "We can try one things though. Specifically, we can decrease the cutoff rate in hopes of gaining some positive insights. The poor outcome may be linked to there being very few observations for the \"Other\" (2) class and Warning (3) class, which translates to high correlation.  We can see the histogram and heatmap to verify this suspecion back in Power BI. "
   ]
  },
  {
   "cell_type": "code",
   "execution_count": 27,
   "id": "f40007af",
   "metadata": {},
   "outputs": [
    {
     "name": "stdout",
     "output_type": "stream",
     "text": [
      "              precision    recall  f1-score   support\n",
      "\n",
      "           0       0.41      0.21      0.27      1638\n",
      "           1       0.94      0.99      0.96     45607\n",
      "           2       1.00      0.00      0.00       828\n",
      "           3       1.00      0.00      0.00      1120\n",
      "\n",
      "    accuracy                           0.93     49193\n",
      "   macro avg       0.84      0.30      0.31     49193\n",
      "weighted avg       0.92      0.93      0.90     49193\n",
      "\n"
     ]
    }
   ],
   "source": [
    "# Adjusting cutoff rate\n",
    "cutoff = 0.5  # change cutoff rate\n",
    "\n",
    "# Adjust the decision boundaries based on the predicted probabilities\n",
    "adjusted_predictions = np.where(predictions > cutoff, 1, 0)  # Adjust the threshold according to the cutoff\n",
    "\n",
    "# Get the classes based on the adjusted predictions\n",
    "adjusted_predicted_classes = np.argmax(adjusted_predictions, axis=1)\n",
    "\n",
    "\n",
    "\n",
    "# Print the classification report with the adjusted cutoff rate\n",
    "print(classification_report(true_classes, adjusted_predicted_classes, zero_division=1))\n",
    "\n",
    "\n"
   ]
  },
  {
   "cell_type": "markdown",
   "id": "35ad9439",
   "metadata": {},
   "source": [
    "First let us the change the cutoff to 0.5 to see of there is a benifit. This normally helps capture more observations all accross. However, not in this case. "
   ]
  },
  {
   "cell_type": "code",
   "execution_count": 28,
   "id": "45b311dc",
   "metadata": {},
   "outputs": [
    {
     "name": "stdout",
     "output_type": "stream",
     "text": [
      "              precision    recall  f1-score   support\n",
      "\n",
      "           0       0.40      0.39      0.40      1638\n",
      "           1       0.94      0.98      0.96     45607\n",
      "           2       1.00      0.00      0.00       828\n",
      "           3       1.00      0.00      0.00      1120\n",
      "\n",
      "    accuracy                           0.92     49193\n",
      "   macro avg       0.84      0.34      0.34     49193\n",
      "weighted avg       0.93      0.92      0.90     49193\n",
      "\n"
     ]
    }
   ],
   "source": [
    "# Adjusting the cutoff rate\n",
    "cutoff = 0.2  # Adjust the cutoff rate as needed\n",
    "\n",
    "# Adjust the decision boundaries based on the predicted probabilities\n",
    "adjusted_predictions = np.where(predictions > cutoff, 1, 0)  # Adjust the threshold according to the cutoff\n",
    "\n",
    "# Get the classes based on the adjusted predictions\n",
    "adjusted_predicted_classes = np.argmax(adjusted_predictions, axis=1)\n",
    "\n",
    "\n",
    "\n",
    "# Print the classification report with the adjusted cutoff rate\n",
    "print(classification_report(true_classes, adjusted_predicted_classes, zero_division=1))\n",
    "\n"
   ]
  },
  {
   "cell_type": "markdown",
   "id": "abe7ccd5",
   "metadata": {},
   "source": [
    "Again we changed the cutoff rate to a lower rate. However, there was no change or improvement.\n",
    "\n",
    "Now we will change the cutoff individually. "
   ]
  },
  {
   "cell_type": "code",
   "execution_count": 29,
   "id": "8e985f85",
   "metadata": {
    "scrolled": true
   },
   "outputs": [
    {
     "name": "stdout",
     "output_type": "stream",
     "text": [
      "              precision    recall  f1-score   support\n",
      "\n",
      "           0       0.41      0.21      0.27      1638\n",
      "           1       0.94      0.99      0.96     45607\n",
      "           2       1.00      0.00      0.00       828\n",
      "           3       1.00      0.00      0.00      1120\n",
      "\n",
      "    accuracy                           0.93     49193\n",
      "   macro avg       0.84      0.30      0.31     49193\n",
      "weighted avg       0.92      0.93      0.90     49193\n",
      "\n"
     ]
    }
   ],
   "source": [
    "# We can also define cutoffs for each outcome varaible.\n",
    "\n",
    "# Adjusting the threshold for each class individually\n",
    "class_thresholds = [0.5, 0.5, 0.5, 0.5]  # Adjust the thresholds for each class as needed\n",
    "\n",
    "adjusted_predictions = np.zeros_like(predictions)\n",
    "for i in range(len(class_thresholds)):\n",
    "    adjusted_predictions[:, i] = (predictions[:, i] > class_thresholds[i]).astype(int)\n",
    "\n",
    "# Get the classes based on the adjusted predictions\n",
    "adjusted_predicted_classes = np.argmax(adjusted_predictions, axis=1)\n",
    "\n",
    "\n",
    "\n",
    "# Print the classification report with the adjusted thresholds for each class\n",
    "print(classification_report(true_classes, adjusted_predicted_classes, zero_division=1))\n"
   ]
  },
  {
   "cell_type": "markdown",
   "id": "1490d88d",
   "metadata": {},
   "source": [
    "Here we can change the cutoff for each class to 0.5 to ensure the output is the same as applying 0.5 to all the classes, which it is.\n",
    "\n",
    "To do this we create a list with our desired cutoff rates for each class. Then we create an array of zeroes with the same shape and data type as the input array. The reason for this is because we want to initialize a container to store adjusted predictions. \n",
    "\n",
    "After this, we use a for loop to iterate over each class index (i) and ranges from 0 to 3 becasue we have 4 classes. From here our loop goes to compare thresholds by comparing the predicted probablities for the current class \"i\" in all rows. It checks if each probablity than the specified cutoff for that class in \"class_thresholds[i]\" in all rows. \n",
    "The comparison result ends up in a boolean but then we change it to an integer where True is converted to 1 and False to 0. Finally, we assign teh array of 1s and 0s to the 'i' th column of the adjusted predictions array. Each column corresponds to a different class. "
   ]
  },
  {
   "cell_type": "code",
   "execution_count": 30,
   "id": "39b5d349",
   "metadata": {},
   "outputs": [
    {
     "name": "stdout",
     "output_type": "stream",
     "text": [
      "              precision    recall  f1-score   support\n",
      "\n",
      "           0       0.42      0.20      0.27      1638\n",
      "           1       0.94      0.99      0.96     45607\n",
      "           2       0.32      0.01      0.02       828\n",
      "           3       1.00      0.00      0.00      1120\n",
      "\n",
      "    accuracy                           0.93     49193\n",
      "   macro avg       0.67      0.30      0.31     49193\n",
      "weighted avg       0.91      0.93      0.90     49193\n",
      "\n"
     ]
    }
   ],
   "source": [
    "# We can also define cutoffs for each outcome varaible.\n",
    "\n",
    "# Adjusting the threshold for each class individually\n",
    "class_thresholds = [0.5, 0.5, 0.2, 0.2]  # Adjust the thresholds for each class as needed\n",
    "\n",
    "adjusted_predictions = np.zeros_like(predictions)\n",
    "for i in range(len(class_thresholds)):\n",
    "    adjusted_predictions[:, i] = (predictions[:, i] > class_thresholds[i]).astype(int)\n",
    "\n",
    "# Get the classes based on the adjusted predictions\n",
    "adjusted_predicted_classes = np.argmax(adjusted_predictions, axis=1)\n",
    "\n",
    "\n",
    "\n",
    "# Print the classification report with the adjusted thresholds for each class\n",
    "print(classification_report(true_classes, adjusted_predicted_classes, zero_division=1))\n"
   ]
  },
  {
   "cell_type": "markdown",
   "id": "0b0ba474",
   "metadata": {},
   "source": [
    "Now we held the cutoff for the first 2 classes the same, except that for the last 2 we chagned the cutoff to 0.2. This was because they have the lowest amount of observations, which only made a difference for class 2 which was a very miniscul amount. \n",
    "\n",
    "\n",
    "\n",
    "\n",
    "\n",
    "\n",
    "\n",
    "Nonetheless, we will further explore and split the data into to train and test our model. "
   ]
  },
  {
   "cell_type": "code",
   "execution_count": 31,
   "id": "c8ace68d",
   "metadata": {},
   "outputs": [],
   "source": [
    "### training data\n",
    "df_log_train_x = df_logit.sample(frac=0.8, random_state=1)\n",
    "df_log_train_y = df_log_train_x['stop_outcome']\n",
    "\n",
    "df_log_train_ydf = df_log_train_x[['stop_outcome']]\n",
    "### testing data\n",
    "df_log_test_x = df_logit.drop(df_log_train_x.index)\n",
    "df_log_test_y = df_logit['stop_outcome'].drop(df_log_train_ydf.index)"
   ]
  },
  {
   "cell_type": "code",
   "execution_count": 32,
   "id": "2ba64902",
   "metadata": {},
   "outputs": [
    {
     "name": "stdout",
     "output_type": "stream",
     "text": [
      "<class 'pandas.core.frame.DataFrame'>\n",
      "Int64Index: 9839 entries, 9 to 49192\n",
      "Data columns (total 8 columns):\n",
      " #   Column              Non-Null Count  Dtype\n",
      "---  ------              --------------  -----\n",
      " 0   driver_age          9839 non-null   int64\n",
      " 1   driver_gender       9839 non-null   int8 \n",
      " 2   driver_race         9839 non-null   int8 \n",
      " 3   drugs_related_stop  9839 non-null   int8 \n",
      " 4   search_conducted    9839 non-null   int8 \n",
      " 5   stop_duration       9839 non-null   int8 \n",
      " 6   stop_outcome        9839 non-null   int8 \n",
      " 7   violation           9839 non-null   int8 \n",
      "dtypes: int64(1), int8(7)\n",
      "memory usage: 221.0 KB\n"
     ]
    }
   ],
   "source": [
    "df_log_test_x.info()"
   ]
  },
  {
   "cell_type": "code",
   "execution_count": null,
   "id": "2ccf81b2",
   "metadata": {
    "scrolled": true
   },
   "outputs": [],
   "source": []
  },
  {
   "cell_type": "code",
   "execution_count": 33,
   "id": "fe3c97cc",
   "metadata": {
    "scrolled": false
   },
   "outputs": [
    {
     "name": "stdout",
     "output_type": "stream",
     "text": [
      "Optimization terminated successfully.\n",
      "         Current function value: 0.274032\n",
      "         Iterations 8\n",
      "                          MNLogit Regression Results                          \n",
      "==============================================================================\n",
      "Dep. Variable:           stop_outcome   No. Observations:                39354\n",
      "Model:                        MNLogit   Df Residuals:                    39330\n",
      "Method:                           MLE   Df Model:                           21\n",
      "Date:                Thu, 16 Nov 2023   Pseudo R-squ.:                  0.1872\n",
      "Time:                        22:45:19   Log-Likelihood:                -10784.\n",
      "converged:                       True   LL-Null:                       -13268.\n",
      "Covariance Type:            nonrobust   LLR p-value:                     0.000\n",
      "======================================================================================\n",
      "    stop_outcome=1       coef    std err          z      P>|z|      [0.025      0.975]\n",
      "--------------------------------------------------------------------------------------\n",
      "Intercept              3.3042      0.146     22.667      0.000       3.018       3.590\n",
      "driver_age             0.0179      0.003      6.429      0.000       0.012       0.023\n",
      "driver_gender         -0.1086      0.081     -1.335      0.182      -0.268       0.051\n",
      "driver_race            0.0866      0.025      3.443      0.001       0.037       0.136\n",
      "drugs_related_stop     0.8787      0.159      5.535      0.000       0.568       1.190\n",
      "search_conducted      -2.5025      0.075    -33.167      0.000      -2.650      -2.355\n",
      "stop_duration         -2.1149      0.076    -27.816      0.000      -2.264      -1.966\n",
      "violation              0.3092      0.020     15.221      0.000       0.269       0.349\n",
      "--------------------------------------------------------------------------------------\n",
      "    stop_outcome=2       coef    std err          z      P>|z|      [0.025      0.975]\n",
      "--------------------------------------------------------------------------------------\n",
      "Intercept              1.1667      0.206      5.673      0.000       0.764       1.570\n",
      "driver_age             0.0110      0.004      2.606      0.009       0.003       0.019\n",
      "driver_gender         -0.5554      0.118     -4.714      0.000      -0.786      -0.324\n",
      "driver_race            0.0763      0.040      1.923      0.055      -0.001       0.154\n",
      "drugs_related_stop     0.8775      0.246      3.567      0.000       0.395       1.360\n",
      "search_conducted      -0.8024      0.133     -6.017      0.000      -1.064      -0.541\n",
      "stop_duration         -1.7479      0.112    -15.573      0.000      -1.968      -1.528\n",
      "violation             -0.3948      0.034    -11.740      0.000      -0.461      -0.329\n",
      "--------------------------------------------------------------------------------------\n",
      "    stop_outcome=3       coef    std err          z      P>|z|      [0.025      0.975]\n",
      "--------------------------------------------------------------------------------------\n",
      "Intercept              0.3576      0.205      1.747      0.081      -0.044       0.759\n",
      "driver_age             0.0248      0.004      6.483      0.000       0.017       0.032\n",
      "driver_gender         -0.2652      0.113     -2.351      0.019      -0.486      -0.044\n",
      "driver_race            0.2542      0.042      6.039      0.000       0.172       0.337\n",
      "drugs_related_stop     0.7953      0.525      1.513      0.130      -0.235       1.825\n",
      "search_conducted      -2.2538      0.246     -9.163      0.000      -2.736      -1.772\n",
      "stop_duration         -2.9873      0.127    -23.479      0.000      -3.237      -2.738\n",
      "violation             -0.1449      0.029     -4.983      0.000      -0.202      -0.088\n",
      "======================================================================================\n"
     ]
    }
   ],
   "source": [
    "formula2 = \"stop_outcome ~ \" + \"+\".join(df_log_train_x.columns.difference([\"stop_outcome\"]))\n",
    "model = sm.MNLogit.from_formula(formula2, data=df_log_train_x)\n",
    "result= model.fit()\n",
    "print(result.summary())"
   ]
  },
  {
   "cell_type": "markdown",
   "id": "d3502dcd",
   "metadata": {},
   "source": [
    "The results are similar so far. ALso, we will conduct predictions using our testing predictors as inputs. "
   ]
  },
  {
   "cell_type": "code",
   "execution_count": 34,
   "id": "2adeefae",
   "metadata": {},
   "outputs": [
    {
     "name": "stdout",
     "output_type": "stream",
     "text": [
      "              0         1         2         3\n",
      "9      0.006225  0.981203  0.003478  0.009094\n",
      "14     0.004696  0.976897  0.003334  0.015073\n",
      "15     0.005927  0.976635  0.003647  0.013791\n",
      "18     0.003444  0.972823  0.004811  0.018922\n",
      "20     0.008281  0.907778  0.022928  0.061012\n",
      "...         ...       ...       ...       ...\n",
      "49178  0.017866  0.854577  0.053331  0.074227\n",
      "49181  0.051387  0.929906  0.009327  0.009379\n",
      "49184  0.004371  0.976896  0.003243  0.015489\n",
      "49191  0.005111  0.972997  0.005602  0.016290\n",
      "49192  0.005719  0.976703  0.003597  0.013981\n",
      "\n",
      "[9839 rows x 4 columns]\n"
     ]
    }
   ],
   "source": [
    "predictions = result.predict(df_log_test_x)\n",
    "print(predictions)"
   ]
  },
  {
   "cell_type": "code",
   "execution_count": null,
   "id": "de605fcb",
   "metadata": {},
   "outputs": [],
   "source": []
  },
  {
   "cell_type": "code",
   "execution_count": 35,
   "id": "feb0e1aa",
   "metadata": {},
   "outputs": [
    {
     "data": {
      "text/plain": [
       "pandas.core.frame.DataFrame"
      ]
     },
     "execution_count": 35,
     "metadata": {},
     "output_type": "execute_result"
    }
   ],
   "source": [
    "type(predictions)"
   ]
  },
  {
   "cell_type": "code",
   "execution_count": 36,
   "id": "8d787965",
   "metadata": {},
   "outputs": [],
   "source": [
    "predicted_classes_t = np.argmax(predictions.values, axis=1)"
   ]
  },
  {
   "cell_type": "markdown",
   "id": "40fc1e30",
   "metadata": {},
   "source": [
    "Likewise we will convert predictions into a single axis with all the predictions. "
   ]
  },
  {
   "cell_type": "code",
   "execution_count": 37,
   "id": "ac7cb258",
   "metadata": {},
   "outputs": [
    {
     "data": {
      "text/plain": [
       "(9839,)"
      ]
     },
     "execution_count": 37,
     "metadata": {},
     "output_type": "execute_result"
    }
   ],
   "source": [
    "predicted_classes_t.shape"
   ]
  },
  {
   "cell_type": "code",
   "execution_count": 38,
   "id": "4e0371f4",
   "metadata": {},
   "outputs": [
    {
     "data": {
      "text/plain": [
       "numpy.ndarray"
      ]
     },
     "execution_count": 38,
     "metadata": {},
     "output_type": "execute_result"
    }
   ],
   "source": [
    "type(predicted_classes_t)"
   ]
  },
  {
   "cell_type": "code",
   "execution_count": 39,
   "id": "fa3a91b0",
   "metadata": {},
   "outputs": [
    {
     "name": "stdout",
     "output_type": "stream",
     "text": [
      "[[  51  268    0    0]\n",
      " [  71 9039    0    0]\n",
      " [  16  147    0    0]\n",
      " [   2  245    0    0]]\n"
     ]
    }
   ],
   "source": [
    "conf_t = confusion_matrix(df_log_test_y, predicted_classes_t)\n",
    "print(conf_t)"
   ]
  },
  {
   "cell_type": "markdown",
   "id": "a7710f79",
   "metadata": {},
   "source": [
    "The results are similar in the sense that classes 3 and 4 were not accounted for and we may see this in greater depth in the upcoming heatmap. "
   ]
  },
  {
   "cell_type": "code",
   "execution_count": 40,
   "id": "7f58780d",
   "metadata": {
    "scrolled": false
   },
   "outputs": [
    {
     "data": {
      "text/plain": [
       "Text(159.0, 0.5, 'Truth')"
      ]
     },
     "execution_count": 40,
     "metadata": {},
     "output_type": "execute_result"
    },
    {
     "data": {
      "image/png": "[encoded data removed]",
      "text/plain": [
       "<Figure size 1440x1080 with 2 Axes>"
      ]
     },
     "metadata": {
      "needs_background": "light"
     },
     "output_type": "display_data"
    }
   ],
   "source": [
    "plt.figure(figsize=(20,15))\n",
    "sns.heatmap(conf_t ,annot=True, fmt='.0f')\n",
    "plt.xlabel('Predicted')\n",
    "plt.ylabel('Truth')"
   ]
  },
  {
   "cell_type": "code",
   "execution_count": 41,
   "id": "90e46718",
   "metadata": {
    "scrolled": true
   },
   "outputs": [
    {
     "name": "stdout",
     "output_type": "stream",
     "text": [
      "              precision    recall  f1-score   support\n",
      "\n",
      "           0       0.36      0.16      0.22       319\n",
      "           1       0.93      0.99      0.96      9110\n",
      "           2       1.00      0.00      0.00       163\n",
      "           3       1.00      0.00      0.00       247\n",
      "\n",
      "    accuracy                           0.92      9839\n",
      "   macro avg       0.82      0.29      0.30      9839\n",
      "weighted avg       0.92      0.92      0.90      9839\n",
      "\n"
     ]
    }
   ],
   "source": [
    "print(classification_report(df_log_test_y, predicted_classes_t, zero_division=1)) "
   ]
  },
  {
   "cell_type": "markdown",
   "id": "b734538b",
   "metadata": {},
   "source": [
    "Again the results are not the best. However, we will adjust the cutoff rate. "
   ]
  },
  {
   "cell_type": "code",
   "execution_count": 42,
   "id": "71fc704f",
   "metadata": {},
   "outputs": [
    {
     "name": "stdout",
     "output_type": "stream",
     "text": [
      "              precision    recall  f1-score   support\n",
      "\n",
      "           0       0.37      0.19      0.25       319\n",
      "           1       0.93      0.99      0.96      9110\n",
      "           2       1.00      0.00      0.00       163\n",
      "           3       1.00      0.00      0.00       247\n",
      "\n",
      "    accuracy                           0.92      9839\n",
      "   macro avg       0.82      0.30      0.30      9839\n",
      "weighted avg       0.92      0.92      0.90      9839\n",
      "\n"
     ]
    }
   ],
   "source": [
    "# Adjusting the cutoff rate\n",
    "cutoff = 0.5  # Change cutoff rate\n",
    "\n",
    "# Adjust the decision boundaries based on predicted probs\n",
    "adjusted_preds = np.where(predictions > cutoff, 1, 0)  # Adjust the threshold according to the cutoff\n",
    "\n",
    "# Get the classes based on the adjusted predictions\n",
    "adjusted_predicted_tra = np.argmax(adjusted_preds, axis=1)\n",
    "\n",
    "\n",
    "\n",
    "# Print the classification report with the adjusted cutoff rate\n",
    "print(classification_report(df_log_test_y, adjusted_predicted_tra, zero_division=1))\n"
   ]
  },
  {
   "cell_type": "code",
   "execution_count": 43,
   "id": "2241ff98",
   "metadata": {},
   "outputs": [
    {
     "name": "stdout",
     "output_type": "stream",
     "text": [
      "              precision    recall  f1-score   support\n",
      "\n",
      "           0       0.40      0.42      0.41       319\n",
      "           1       0.94      0.98      0.96      9110\n",
      "           2       1.00      0.00      0.00       163\n",
      "           3       1.00      0.00      0.00       247\n",
      "\n",
      "    accuracy                           0.92      9839\n",
      "   macro avg       0.83      0.35      0.34      9839\n",
      "weighted avg       0.93      0.92      0.90      9839\n",
      "\n"
     ]
    }
   ],
   "source": [
    "# Adjusting the cutoff rate\n",
    "cutoff = 0.2  # Change cutoff rate\n",
    "\n",
    "# Adjust the decision boundaries based on the predicted probabilities\n",
    "adjusted_preds = np.where(predictions > cutoff, 1, 0)  # Adjust the threshold according to the cutoff\n",
    "\n",
    "# Get the classes based on the adjusted predictions\n",
    "adjusted_predicted_tra = np.argmax(adjusted_preds, axis=1)\n",
    "\n",
    "\n",
    "\n",
    "# Print the classification report with the adjusted cutoff rate\n",
    "print(classification_report(df_log_test_y, adjusted_predicted_tra, zero_division=1))\n"
   ]
  },
  {
   "cell_type": "markdown",
   "id": "02e791c1",
   "metadata": {},
   "source": [
    "Even after the fact that we decreased the cutoff we have no improvement. Now we will change the cutoff individually specifically for classes 3 and 4."
   ]
  },
  {
   "cell_type": "code",
   "execution_count": 44,
   "id": "0209a8a1",
   "metadata": {},
   "outputs": [
    {
     "name": "stdout",
     "output_type": "stream",
     "text": [
      "              precision    recall  f1-score   support\n",
      "\n",
      "           0       0.38      0.19      0.25       319\n",
      "           1       0.93      0.99      0.96      9110\n",
      "           2       0.00      0.00      0.00       163\n",
      "           3       1.00      0.00      0.00       247\n",
      "\n",
      "    accuracy                           0.92      9839\n",
      "   macro avg       0.58      0.29      0.30      9839\n",
      "weighted avg       0.90      0.92      0.90      9839\n",
      "\n"
     ]
    }
   ],
   "source": [
    "# We can also define cutoffs for each outcome varaible.\n",
    "\n",
    "# Adjusting the threshold for each class individually\n",
    "class_thresholds = [0.5, 0.5, 0.2, 0.2]  # Adjust the thresholds for each class as needed\n",
    "\n",
    "adjusted_predictions = np.zeros_like(predicted_classes_t)\n",
    "for i in range(len(class_thresholds)):\n",
    "    adjusted_predictions = np.where(predictions > class_thresholds, 1, 0)\n",
    "\n",
    "\n",
    "# Get classes based on adjusted predictions\n",
    "adjusted_predicted_classes = np.argmax(adjusted_predictions, axis=1)\n",
    "\n",
    "\n",
    "\n",
    "\n",
    "print(classification_report(df_log_test_y, adjusted_predicted_classes, zero_division=1))\n"
   ]
  },
  {
   "cell_type": "markdown",
   "id": "0e3bd883",
   "metadata": {},
   "source": [
    "Still no improvement. "
   ]
  },
  {
   "cell_type": "code",
   "execution_count": 46,
   "id": "96a07eec",
   "metadata": {},
   "outputs": [],
   "source": [
    "mtrx = confusion_matrix(df_log_test_y, adjusted_predicted_classes)"
   ]
  },
  {
   "cell_type": "code",
   "execution_count": 47,
   "id": "54d47d1c",
   "metadata": {},
   "outputs": [
    {
     "data": {
      "text/plain": [
       "Text(159.0, 0.5, 'Truth')"
      ]
     },
     "execution_count": 47,
     "metadata": {},
     "output_type": "execute_result"
    },
    {
     "data": {
      "image/png": "[encoded data removed]",
      "text/plain": [
       "<Figure size 1440x1080 with 2 Axes>"
      ]
     },
     "metadata": {
      "needs_background": "light"
     },
     "output_type": "display_data"
    }
   ],
   "source": [
    "plt.figure(figsize=(20,15))\n",
    "sns.heatmap(mtrx ,annot=True, fmt='.0f')\n",
    "plt.xlabel('Predicted')\n",
    "plt.ylabel('Truth')"
   ]
  },
  {
   "cell_type": "markdown",
   "id": "0ca9a5b6",
   "metadata": {},
   "source": [
    "Now we will do some further configurations and either combine categories or drop categories.\n",
    "\n",
    "\n",
    "Specifically, when revisiting our Power BI heatmap, we see a few intresting details. First, when looking at the outcome categories we see that there appears to be a high correlation between driver_race_black and driver_race_hispanic. This is likely to there being "
   ]
  },
  {
   "cell_type": "markdown",
   "id": "9d35ab35",
   "metadata": {},
   "source": [
    "# Uncorrelated Attempt\n",
    "\n",
    "Now that we saw some highcorrelation, we will combine some of the categorical variables to see if that resolves the issue. "
   ]
  },
  {
   "cell_type": "code",
   "execution_count": 48,
   "id": "b2bd2584",
   "metadata": {},
   "outputs": [],
   "source": [
    "df_logit3 = df.drop(columns={'Date_Key', 'stop_date', 'stop_time', 'violation_raw'})"
   ]
  },
  {
   "cell_type": "markdown",
   "id": "f3be526c",
   "metadata": {},
   "source": [
    "Again we will drop columns that were previously deemed unnecessary."
   ]
  },
  {
   "cell_type": "code",
   "execution_count": 50,
   "id": "b99b6be9",
   "metadata": {},
   "outputs": [
    {
     "data": {
      "text/plain": [
       "array(['White', 'Black', 'Other', 'Hispanic'], dtype=object)"
      ]
     },
     "execution_count": 50,
     "metadata": {},
     "output_type": "execute_result"
    }
   ],
   "source": [
    "df_logit3['driver_race'].unique()"
   ]
  },
  {
   "cell_type": "code",
   "execution_count": 51,
   "id": "2812e123",
   "metadata": {},
   "outputs": [],
   "source": [
    "df_logit3['driver_race'] = df_logit3['driver_race'].replace('Hispanic', 'Other')"
   ]
  },
  {
   "cell_type": "code",
   "execution_count": 52,
   "id": "fd51afdf",
   "metadata": {},
   "outputs": [
    {
     "data": {
      "text/plain": [
       "array(['White', 'Black', 'Other'], dtype=object)"
      ]
     },
     "execution_count": 52,
     "metadata": {},
     "output_type": "execute_result"
    }
   ],
   "source": [
    "df_logit3['driver_race'].unique()"
   ]
  },
  {
   "cell_type": "markdown",
   "id": "caf902e2",
   "metadata": {},
   "source": [
    "We converted Hispanic into other becasue of the high correlation with white. We did not want to convert black drivers into other because there were more observations and would like to see our results in a heatmap "
   ]
  },
  {
   "cell_type": "code",
   "execution_count": 53,
   "id": "4d21ca23",
   "metadata": {},
   "outputs": [
    {
     "data": {
      "text/plain": [
       "array(['Citation', 'Arrest Driver', 'Other', 'Warning'], dtype=object)"
      ]
     },
     "execution_count": 53,
     "metadata": {},
     "output_type": "execute_result"
    }
   ],
   "source": [
    "df_logit3['stop_outcome'].unique()"
   ]
  },
  {
   "cell_type": "code",
   "execution_count": 54,
   "id": "fcea75d1",
   "metadata": {},
   "outputs": [],
   "source": [
    "df_logit3['stop_outcome'] = df_logit3['stop_outcome'].replace('Warning', 'Other')\n",
    "df_logit3['stop_outcome'] = df_logit3['stop_outcome'].replace('Arrest Driver', 'Other')"
   ]
  },
  {
   "cell_type": "code",
   "execution_count": 55,
   "id": "6cbcde5f",
   "metadata": {},
   "outputs": [
    {
     "data": {
      "text/plain": [
       "array(['Citation', 'Other'], dtype=object)"
      ]
     },
     "execution_count": 55,
     "metadata": {},
     "output_type": "execute_result"
    }
   ],
   "source": [
    "df_logit3['stop_outcome'].unique()"
   ]
  },
  {
   "cell_type": "markdown",
   "id": "3d8687a2",
   "metadata": {},
   "source": [
    "We will only have 2 outcome categories because the other 2 have a high correlation. Making this into a binomial logistical regression model. "
   ]
  },
  {
   "cell_type": "code",
   "execution_count": 56,
   "id": "26cc3c50",
   "metadata": {},
   "outputs": [
    {
     "data": {
      "text/plain": [
       "array(['Speeding', 'Other', 'Equipment', 'Moving violation',\n",
       "       'Registration/plates'], dtype=object)"
      ]
     },
     "execution_count": 56,
     "metadata": {},
     "output_type": "execute_result"
    }
   ],
   "source": [
    "df_logit3['violation'].unique()"
   ]
  },
  {
   "cell_type": "code",
   "execution_count": 57,
   "id": "9f69d34f",
   "metadata": {},
   "outputs": [],
   "source": [
    "df_logit3['violation'] = df_logit3['violation'].replace('Speeding', 'Moving violation')"
   ]
  },
  {
   "cell_type": "code",
   "execution_count": 58,
   "id": "1bb90188",
   "metadata": {},
   "outputs": [
    {
     "data": {
      "text/plain": [
       "array(['Moving violation', 'Other', 'Equipment', 'Registration/plates'],\n",
       "      dtype=object)"
      ]
     },
     "execution_count": 58,
     "metadata": {},
     "output_type": "execute_result"
    }
   ],
   "source": [
    "df_logit3['violation'].unique()"
   ]
  },
  {
   "cell_type": "markdown",
   "id": "75a80efb",
   "metadata": {},
   "source": [
    "Speeding and moving violation are highly correlated. We do not know why. However, one reason is that speeding and moving violation may be interpreted the same sometimes. Thus we will make speeding into moving violation since it is a moving violation."
   ]
  },
  {
   "cell_type": "code",
   "execution_count": 59,
   "id": "d601cebb",
   "metadata": {},
   "outputs": [],
   "source": [
    "df_logit3 = df_logit3.rename(columns={'violation_Moving violation': 'violation_Moving', \n",
    "                                    'violation_Registration/plates':'violation_Registration_plates',\n",
    "                                   'stop_duration_0-15 Min': 'stop_duration_fif'})"
   ]
  },
  {
   "cell_type": "code",
   "execution_count": 60,
   "id": "5098f6ad",
   "metadata": {
    "scrolled": true
   },
   "outputs": [
    {
     "data": {
      "text/html": [
       "<div>\n",
       "<style scoped>\n",
       "    .dataframe tbody tr th:only-of-type {\n",
       "        vertical-align: middle;\n",
       "    }\n",
       "\n",
       "    .dataframe tbody tr th {\n",
       "        vertical-align: top;\n",
       "    }\n",
       "\n",
       "    .dataframe thead th {\n",
       "        text-align: right;\n",
       "    }\n",
       "</style>\n",
       "<table border=\"1\" class=\"dataframe\">\n",
       "  <thead>\n",
       "    <tr style=\"text-align: right;\">\n",
       "      <th></th>\n",
       "      <th>driver_age</th>\n",
       "      <th>driver_gender</th>\n",
       "      <th>driver_race</th>\n",
       "      <th>drugs_related_stop</th>\n",
       "      <th>search_conducted</th>\n",
       "      <th>stop_duration</th>\n",
       "      <th>stop_outcome</th>\n",
       "      <th>violation</th>\n",
       "    </tr>\n",
       "  </thead>\n",
       "  <tbody>\n",
       "    <tr>\n",
       "      <th>0</th>\n",
       "      <td>20</td>\n",
       "      <td>M</td>\n",
       "      <td>White</td>\n",
       "      <td>False</td>\n",
       "      <td>False</td>\n",
       "      <td>0-15 Min</td>\n",
       "      <td>Citation</td>\n",
       "      <td>Moving violation</td>\n",
       "    </tr>\n",
       "    <tr>\n",
       "      <th>1</th>\n",
       "      <td>40</td>\n",
       "      <td>M</td>\n",
       "      <td>White</td>\n",
       "      <td>False</td>\n",
       "      <td>False</td>\n",
       "      <td>0-15 Min</td>\n",
       "      <td>Citation</td>\n",
       "      <td>Moving violation</td>\n",
       "    </tr>\n",
       "    <tr>\n",
       "      <th>2</th>\n",
       "      <td>33</td>\n",
       "      <td>M</td>\n",
       "      <td>White</td>\n",
       "      <td>False</td>\n",
       "      <td>False</td>\n",
       "      <td>0-15 Min</td>\n",
       "      <td>Citation</td>\n",
       "      <td>Moving violation</td>\n",
       "    </tr>\n",
       "    <tr>\n",
       "      <th>3</th>\n",
       "      <td>19</td>\n",
       "      <td>M</td>\n",
       "      <td>White</td>\n",
       "      <td>False</td>\n",
       "      <td>False</td>\n",
       "      <td>16+ Min</td>\n",
       "      <td>Other</td>\n",
       "      <td>Other</td>\n",
       "    </tr>\n",
       "    <tr>\n",
       "      <th>4</th>\n",
       "      <td>21</td>\n",
       "      <td>F</td>\n",
       "      <td>White</td>\n",
       "      <td>False</td>\n",
       "      <td>False</td>\n",
       "      <td>0-15 Min</td>\n",
       "      <td>Citation</td>\n",
       "      <td>Moving violation</td>\n",
       "    </tr>\n",
       "  </tbody>\n",
       "</table>\n",
       "</div>"
      ],
      "text/plain": [
       "   driver_age driver_gender driver_race  drugs_related_stop  search_conducted  \\\n",
       "0          20             M       White               False             False   \n",
       "1          40             M       White               False             False   \n",
       "2          33             M       White               False             False   \n",
       "3          19             M       White               False             False   \n",
       "4          21             F       White               False             False   \n",
       "\n",
       "  stop_duration stop_outcome         violation  \n",
       "0      0-15 Min     Citation  Moving violation  \n",
       "1      0-15 Min     Citation  Moving violation  \n",
       "2      0-15 Min     Citation  Moving violation  \n",
       "3       16+ Min        Other             Other  \n",
       "4      0-15 Min     Citation  Moving violation  "
      ]
     },
     "execution_count": 60,
     "metadata": {},
     "output_type": "execute_result"
    }
   ],
   "source": [
    "df_logit3.head()"
   ]
  },
  {
   "cell_type": "code",
   "execution_count": null,
   "id": "11835988",
   "metadata": {},
   "outputs": [],
   "source": []
  },
  {
   "cell_type": "code",
   "execution_count": 61,
   "id": "1f40c0bd",
   "metadata": {},
   "outputs": [],
   "source": [
    "df_dummy = df_logit3"
   ]
  },
  {
   "cell_type": "markdown",
   "id": "6a9bc887",
   "metadata": {},
   "source": [
    "we must make categorical variables into dummies since the binary model does this for us automatically and do not make them categorical before the model. "
   ]
  },
  {
   "cell_type": "code",
   "execution_count": 62,
   "id": "e9116729",
   "metadata": {},
   "outputs": [],
   "source": [
    "heat_map = pd.get_dummies(df_dummy, columns=['driver_gender', 'driver_race', 'drugs_related_stop', 'search_conducted', 'stop_duration', 'stop_outcome', 'violation'])"
   ]
  },
  {
   "cell_type": "code",
   "execution_count": 63,
   "id": "b0a068aa",
   "metadata": {},
   "outputs": [],
   "source": [
    "heat_map = heat_map.drop(columns=['driver_gender_F', 'drugs_related_stop_False', 'search_conducted_False', 'stop_duration_16+ Min', 'stop_outcome_Other'])"
   ]
  },
  {
   "cell_type": "markdown",
   "id": "92e6c1d1",
   "metadata": {},
   "source": [
    "We only need 1 column for cateogrical predictors that have 2 classes. "
   ]
  },
  {
   "cell_type": "code",
   "execution_count": 64,
   "id": "23a036af",
   "metadata": {
    "scrolled": false
   },
   "outputs": [
    {
     "data": {
      "image/png": "[encoded data removed]",
      "text/plain": [
       "<Figure size 1152x648 with 2 Axes>"
      ]
     },
     "metadata": {
      "needs_background": "light"
     },
     "output_type": "display_data"
    }
   ],
   "source": [
    "heat_corr = heat_map.corr().round(3)\n",
    "plt.figure(figsize=(16,9))\n",
    "plt.title('Traffic Violations')\n",
    "sns.heatmap(heat_corr, annot=True)\n",
    "\n",
    "plt.show()\n"
   ]
  },
  {
   "cell_type": "markdown",
   "id": "ba7eeffb",
   "metadata": {},
   "source": [
    "Again we have high correlation among certain predictors like black and white drivers. However, there seems to be some improvement. \n",
    "\n",
    "Nonetheless, we will change black into other. "
   ]
  },
  {
   "cell_type": "code",
   "execution_count": 65,
   "id": "4d392fbf",
   "metadata": {},
   "outputs": [
    {
     "data": {
      "text/plain": [
       "array(['White', 'Black', 'Other'], dtype=object)"
      ]
     },
     "execution_count": 65,
     "metadata": {},
     "output_type": "execute_result"
    }
   ],
   "source": [
    "df_logit3['driver_race'].unique()"
   ]
  },
  {
   "cell_type": "code",
   "execution_count": 66,
   "id": "fa358255",
   "metadata": {},
   "outputs": [],
   "source": [
    "df_logit3['driver_race'] = df_logit3['driver_race'].replace('Black', 'Other')"
   ]
  },
  {
   "cell_type": "code",
   "execution_count": 67,
   "id": "9efadbbe",
   "metadata": {},
   "outputs": [
    {
     "data": {
      "text/plain": [
       "array(['White', 'Other'], dtype=object)"
      ]
     },
     "execution_count": 67,
     "metadata": {},
     "output_type": "execute_result"
    }
   ],
   "source": [
    "df_logit3['driver_race'].unique()"
   ]
  },
  {
   "cell_type": "code",
   "execution_count": 68,
   "id": "373519ad",
   "metadata": {},
   "outputs": [],
   "source": [
    "df_dummy = df_logit3\n",
    "heat_map = pd.get_dummies(df_dummy, columns=['driver_gender', 'driver_race', 'drugs_related_stop', 'search_conducted', 'stop_duration', 'stop_outcome', 'violation'])"
   ]
  },
  {
   "cell_type": "code",
   "execution_count": 69,
   "id": "915b916e",
   "metadata": {},
   "outputs": [],
   "source": [
    "heat_map = heat_map.drop(columns=['driver_gender_F', 'drugs_related_stop_False', 'search_conducted_False', 'stop_duration_16+ Min', 'stop_outcome_Other', 'driver_race_Other'])"
   ]
  },
  {
   "cell_type": "code",
   "execution_count": 70,
   "id": "fec6067b",
   "metadata": {
    "scrolled": false
   },
   "outputs": [
    {
     "data": {
      "image/png": "[encoded data removed]",
      "text/plain": [
       "<Figure size 1152x648 with 2 Axes>"
      ]
     },
     "metadata": {
      "needs_background": "light"
     },
     "output_type": "display_data"
    }
   ],
   "source": [
    "heat_corr = heat_map.corr().round(3)\n",
    "plt.figure(figsize=(16,9))\n",
    "plt.title('Traffic Violations')\n",
    "sns.heatmap(heat_corr, annot=True)\n",
    "\n",
    "plt.show()"
   ]
  },
  {
   "cell_type": "markdown",
   "id": "7a4f4670",
   "metadata": {},
   "source": [
    "Although there is some correlation between the violation categories, we will proceed and see the results. Also, we will be using a binary classification. "
   ]
  },
  {
   "cell_type": "code",
   "execution_count": 71,
   "id": "3375df76",
   "metadata": {},
   "outputs": [],
   "source": [
    "### training data\n",
    "df_log_train_x_bin = df_logit3.sample(frac=0.8, random_state=1)\n",
    "df_log_train_y_bin = df_log_train_x['stop_outcome']\n",
    "\n",
    "df_log_train_y_bin = df_log_train_x[['stop_outcome']]\n",
    "### testing data\n",
    "df_log_test_x_bin = df_logit3.drop(df_log_train_x_bin.index)\n",
    "df_log_test_y_bin = df_logit3['stop_outcome'].drop(df_log_train_y_bin.index)"
   ]
  },
  {
   "cell_type": "code",
   "execution_count": 72,
   "id": "0618d31f",
   "metadata": {},
   "outputs": [
    {
     "name": "stdout",
     "output_type": "stream",
     "text": [
      "                                 Generalized Linear Model Regression Results                                 \n",
      "=============================================================================================================\n",
      "Dep. Variable:     ['stop_outcome[Citation]', 'stop_outcome[Other]']   No. Observations:                39354\n",
      "Model:                                                           GLM   Df Residuals:                    39344\n",
      "Model Family:                                               Binomial   Df Model:                            9\n",
      "Link Function:                                                 logit   Scale:                          1.0000\n",
      "Method:                                                         IRLS   Log-Likelihood:                -8569.4\n",
      "Date:                                               Thu, 16 Nov 2023   Deviance:                       17139.\n",
      "Time:                                                       23:32:56   Pearson chi2:                 3.75e+04\n",
      "No. Iterations:                                                    6                                         \n",
      "Covariance Type:                                           nonrobust                                         \n",
      "====================================================================================================\n",
      "                                       coef    std err          z      P>|z|      [0.025      0.975]\n",
      "----------------------------------------------------------------------------------------------------\n",
      "Intercept                            1.7029      0.086     19.772      0.000       1.534       1.872\n",
      "driver_gender[T.M]                   0.0432      0.050      0.858      0.391      -0.056       0.142\n",
      "driver_race[T.White]                -0.0563      0.047     -1.196      0.232      -0.149       0.036\n",
      "drugs_related_stop[T.True]           0.5598      0.142      3.941      0.000       0.281       0.838\n",
      "search_conducted[T.True]            -2.1377      0.067    -32.030      0.000      -2.269      -2.007\n",
      "stop_duration[T.16+ Min]            -0.8262      0.045    -18.329      0.000      -0.915      -0.738\n",
      "violation[T.Moving violation]        1.7393      0.053     33.036      0.000       1.636       1.842\n",
      "violation[T.Other]                   0.6605      0.079      8.411      0.000       0.507       0.814\n",
      "violation[T.Registration/plates]     0.7909      0.091      8.655      0.000       0.612       0.970\n",
      "driver_age                           0.0010      0.002      0.549      0.583      -0.002       0.004\n",
      "====================================================================================================\n"
     ]
    }
   ],
   "source": [
    "form3 = \"stop_outcome ~\" + \"+\".join(df_log_train_x_bin.columns.difference([\"stop_outcome\"]))\n",
    "model_bin = smf.glm(formula=form3, data=df_log_train_x_bin, family=sm.families.Binomial())\n",
    "result_train = model_bin.fit()\n",
    "print(result_train.summary())"
   ]
  },
  {
   "cell_type": "markdown",
   "id": "f07e4b12",
   "metadata": {},
   "source": [
    "Again there is high p-values. We are left with one option, which is to drop a few of those predictors and see the results. We will drop driver_age since it is the one with the highest age. "
   ]
  },
  {
   "cell_type": "code",
   "execution_count": 73,
   "id": "046aa743",
   "metadata": {},
   "outputs": [],
   "source": [
    "df_logit4 = df_logit3"
   ]
  },
  {
   "cell_type": "code",
   "execution_count": 74,
   "id": "01525865",
   "metadata": {},
   "outputs": [],
   "source": [
    "df_logit4 = df_logit3.drop(columns=['driver_age'])"
   ]
  },
  {
   "cell_type": "code",
   "execution_count": 75,
   "id": "cbcd8b01",
   "metadata": {},
   "outputs": [],
   "source": [
    "### training data\n",
    "df_log_train_x_bin = df_logit4.sample(frac=0.8, random_state=1)\n",
    "df_log_train_y_bin = df_log_train_x['stop_outcome']\n",
    "\n",
    "df_log_train_y_bin = df_log_train_x[['stop_outcome']]\n",
    "### testing data\n",
    "df_log_test_x_bin = df_logit4.drop(df_log_train_x_bin.index)\n",
    "df_log_test_y_bin = df_logit4['stop_outcome'].drop(df_log_train_y_bin.index)"
   ]
  },
  {
   "cell_type": "code",
   "execution_count": 76,
   "id": "bfdb6475",
   "metadata": {},
   "outputs": [
    {
     "name": "stdout",
     "output_type": "stream",
     "text": [
      "                                 Generalized Linear Model Regression Results                                 \n",
      "=============================================================================================================\n",
      "Dep. Variable:     ['stop_outcome[Citation]', 'stop_outcome[Other]']   No. Observations:                39354\n",
      "Model:                                                           GLM   Df Residuals:                    39345\n",
      "Model Family:                                               Binomial   Df Model:                            8\n",
      "Link Function:                                                 logit   Scale:                          1.0000\n",
      "Method:                                                         IRLS   Log-Likelihood:                -8569.6\n",
      "Date:                                               Thu, 16 Nov 2023   Deviance:                       17139.\n",
      "Time:                                                       23:33:33   Pearson chi2:                 3.75e+04\n",
      "No. Iterations:                                                    6                                         \n",
      "Covariance Type:                                           nonrobust                                         \n",
      "====================================================================================================\n",
      "                                       coef    std err          z      P>|z|      [0.025      0.975]\n",
      "----------------------------------------------------------------------------------------------------\n",
      "Intercept                            1.7308      0.070     24.899      0.000       1.595       1.867\n",
      "driver_gender[T.M]                   0.0455      0.050      0.906      0.365      -0.053       0.144\n",
      "driver_race[T.White]                -0.0547      0.047     -1.163      0.245      -0.147       0.037\n",
      "drugs_related_stop[T.True]           0.5566      0.142      3.921      0.000       0.278       0.835\n",
      "search_conducted[T.True]            -2.1404      0.067    -32.152      0.000      -2.271      -2.010\n",
      "stop_duration[T.16+ Min]            -0.8258      0.045    -18.323      0.000      -0.914      -0.737\n",
      "violation[T.Moving violation]        1.7413      0.053     33.156      0.000       1.638       1.844\n",
      "violation[T.Other]                   0.6683      0.077      8.655      0.000       0.517       0.820\n",
      "violation[T.Registration/plates]     0.7923      0.091      8.672      0.000       0.613       0.971\n",
      "====================================================================================================\n"
     ]
    }
   ],
   "source": [
    "form4 = \"stop_outcome ~\" + \"+\".join(df_log_train_x_bin.columns.difference([\"stop_outcome\"]))\n",
    "model_bin = smf.glm(formula=form4, data=df_log_train_x_bin, family=sm.families.Binomial())\n",
    "result_train = model_bin.fit()\n",
    "print(result_train.summary())"
   ]
  },
  {
   "cell_type": "markdown",
   "id": "e0df7a6b",
   "metadata": {},
   "source": [
    "This time we will drop all p-values greater than 0.05."
   ]
  },
  {
   "cell_type": "code",
   "execution_count": 77,
   "id": "2ad8384a",
   "metadata": {},
   "outputs": [],
   "source": [
    "df_logit4 = df_logit4.drop(columns=['driver_gender','driver_race'])"
   ]
  },
  {
   "cell_type": "code",
   "execution_count": 78,
   "id": "4e3f2bf3",
   "metadata": {},
   "outputs": [
    {
     "name": "stdout",
     "output_type": "stream",
     "text": [
      "<class 'pandas.core.frame.DataFrame'>\n",
      "RangeIndex: 49193 entries, 0 to 49192\n",
      "Data columns (total 5 columns):\n",
      " #   Column              Non-Null Count  Dtype \n",
      "---  ------              --------------  ----- \n",
      " 0   drugs_related_stop  49193 non-null  bool  \n",
      " 1   search_conducted    49193 non-null  bool  \n",
      " 2   stop_duration       49193 non-null  object\n",
      " 3   stop_outcome        49193 non-null  object\n",
      " 4   violation           49193 non-null  object\n",
      "dtypes: bool(2), object(3)\n",
      "memory usage: 1.2+ MB\n"
     ]
    }
   ],
   "source": [
    "df_logit4.info()"
   ]
  },
  {
   "cell_type": "code",
   "execution_count": 79,
   "id": "4f0ce001",
   "metadata": {},
   "outputs": [
    {
     "data": {
      "text/plain": [
       "array(['Citation', 'Other'], dtype=object)"
      ]
     },
     "execution_count": 79,
     "metadata": {},
     "output_type": "execute_result"
    }
   ],
   "source": [
    "df_logit4['stop_outcome'].unique()"
   ]
  },
  {
   "cell_type": "code",
   "execution_count": 80,
   "id": "60e3e8a9",
   "metadata": {},
   "outputs": [],
   "source": [
    "df_logit4['stop_outcome'] = df_logit4['stop_outcome'].replace('Other', 'False')\n",
    "# change other to false and Citation to True"
   ]
  },
  {
   "cell_type": "code",
   "execution_count": 81,
   "id": "3973cda4",
   "metadata": {},
   "outputs": [],
   "source": [
    "df_logit4['stop_outcome'] = df_logit4['stop_outcome'].replace('Citation', 'True')"
   ]
  },
  {
   "cell_type": "code",
   "execution_count": 82,
   "id": "e7f75d96",
   "metadata": {},
   "outputs": [
    {
     "data": {
      "text/plain": [
       "array(['True', 'False'], dtype=object)"
      ]
     },
     "execution_count": 82,
     "metadata": {},
     "output_type": "execute_result"
    }
   ],
   "source": [
    "df_logit4['stop_outcome'].unique()"
   ]
  },
  {
   "cell_type": "code",
   "execution_count": 83,
   "id": "e67c0096",
   "metadata": {},
   "outputs": [],
   "source": [
    "### training data\n",
    "df_log_train_x_bin = df_logit4.sample(frac=0.8, random_state=1)\n",
    "df_log_train_y_bin = df_log_train_x_bin['stop_outcome']\n",
    "\n",
    "df_log_train_y_bin = df_log_train_x_bin[['stop_outcome']]\n",
    "### testing data\n",
    "df_log_test_x_bin = df_logit4.drop(df_log_train_x_bin.index)\n",
    "df_log_test_y_bin = df_logit4['stop_outcome'].drop(df_log_train_y_bin.index)"
   ]
  },
  {
   "cell_type": "code",
   "execution_count": 84,
   "id": "2883a654",
   "metadata": {},
   "outputs": [
    {
     "name": "stdout",
     "output_type": "stream",
     "text": [
      "                               Generalized Linear Model Regression Results                               \n",
      "=========================================================================================================\n",
      "Dep. Variable:     ['stop_outcome[False]', 'stop_outcome[True]']   No. Observations:                39354\n",
      "Model:                                                       GLM   Df Residuals:                    39347\n",
      "Model Family:                                           Binomial   Df Model:                            6\n",
      "Link Function:                                             logit   Scale:                          1.0000\n",
      "Method:                                                     IRLS   Log-Likelihood:                -8570.7\n",
      "Date:                                           Thu, 16 Nov 2023   Deviance:                       17141.\n",
      "Time:                                                   23:33:50   Pearson chi2:                 3.74e+04\n",
      "No. Iterations:                                                6                                         \n",
      "Covariance Type:                                       nonrobust                                         \n",
      "====================================================================================================\n",
      "                                       coef    std err          z      P>|z|      [0.025      0.975]\n",
      "----------------------------------------------------------------------------------------------------\n",
      "Intercept                           -1.7312      0.047    -36.981      0.000      -1.823      -1.639\n",
      "drugs_related_stop[T.True]          -0.5525      0.142     -3.899      0.000      -0.830      -0.275\n",
      "search_conducted[T.True]             2.1286      0.066     32.229      0.000       1.999       2.258\n",
      "stop_duration[T.16+ Min]             0.8224      0.045     18.275      0.000       0.734       0.911\n",
      "violation[T.Moving violation]       -1.7299      0.052    -33.309      0.000      -1.832      -1.628\n",
      "violation[T.Other]                  -0.6705      0.077     -8.696      0.000      -0.822      -0.519\n",
      "violation[T.Registration/plates]    -0.7897      0.091     -8.660      0.000      -0.968      -0.611\n",
      "====================================================================================================\n"
     ]
    }
   ],
   "source": [
    "form4 = \"stop_outcome ~\" + \"+\".join(df_log_train_x_bin.columns.difference([\"stop_outcome\"]))\n",
    "model_bin = smf.glm(formula=form4, data=df_log_train_x_bin, family=sm.families.Binomial())\n",
    "result_train = model_bin.fit()\n",
    "print(result_train.summary())"
   ]
  },
  {
   "cell_type": "markdown",
   "id": "0fe03136",
   "metadata": {},
   "source": [
    "Finally we can implement our model."
   ]
  },
  {
   "cell_type": "code",
   "execution_count": 85,
   "id": "a8adb53c",
   "metadata": {},
   "outputs": [],
   "source": [
    "predictions = result_train.predict(df_log_test_x_bin)"
   ]
  },
  {
   "cell_type": "code",
   "execution_count": 86,
   "id": "aa0e158e",
   "metadata": {},
   "outputs": [
    {
     "data": {
      "text/plain": [
       "9        0.030439\n",
       "14       0.030439\n",
       "15       0.030439\n",
       "18       0.030439\n",
       "20       0.030439\n",
       "           ...   \n",
       "49178    0.150432\n",
       "49181    0.154656\n",
       "49184    0.030439\n",
       "49191    0.030439\n",
       "49192    0.030439\n",
       "Length: 9839, dtype: float64"
      ]
     },
     "execution_count": 86,
     "metadata": {},
     "output_type": "execute_result"
    }
   ],
   "source": [
    "predictions"
   ]
  },
  {
   "cell_type": "code",
   "execution_count": null,
   "id": "c0b0cc37",
   "metadata": {
    "scrolled": true
   },
   "outputs": [],
   "source": []
  },
  {
   "cell_type": "code",
   "execution_count": null,
   "id": "21149773",
   "metadata": {},
   "outputs": [],
   "source": []
  },
  {
   "cell_type": "code",
   "execution_count": 87,
   "id": "51a2bf69",
   "metadata": {},
   "outputs": [
    {
     "name": "stdout",
     "output_type": "stream",
     "text": [
      "              precision    recall  f1-score   support\n",
      "\n",
      "           0       0.93      0.99      0.96      9110\n",
      "           1       0.46      0.10      0.16       729\n",
      "\n",
      "    accuracy                           0.92      9839\n",
      "   macro avg       0.70      0.54      0.56      9839\n",
      "weighted avg       0.90      0.92      0.90      9839\n",
      "\n"
     ]
    }
   ],
   "source": [
    "# Convert 'False' to 0 and 'True' to 1 in true labels\n",
    "df_log_test_y_binz = df_log_test_y_bin.map({'False': 1, 'True': 0}) # convert the actual outcome to a number \n",
    "## to be the same as the predicted data type\n",
    "predicted_classes_binx = np.where(predictions < 0.5, 0, 1)\n",
    "# Now, both true labels and predicted classes are of the same type (int)\n",
    "print(classification_report(df_log_test_y_binz, predicted_classes_binx, zero_division=1))\n"
   ]
  },
  {
   "cell_type": "markdown",
   "id": "8cc85aea",
   "metadata": {},
   "source": [
    "First we must conver the actual outcomes into 1 and 0 since they are not binary. Note that we must make false into 1 and 1 true into 0. This is because stop_outcome false is listed first and thus it is considered 1. \n",
    "\n",
    "Aside from this there is an improvement. Specifcally, our accurcary is 92%. However, we must note that the model is flawed as it is extremly good at predicting 0s but very bad at predicting 1s. This is becasue there are very few observations for 1."
   ]
  },
  {
   "cell_type": "code",
   "execution_count": null,
   "id": "84c1dd6a",
   "metadata": {},
   "outputs": [],
   "source": []
  },
  {
   "cell_type": "code",
   "execution_count": null,
   "id": "1b6efaf6",
   "metadata": {},
   "outputs": [],
   "source": []
  },
  {
   "cell_type": "code",
   "execution_count": null,
   "id": "a2ace288",
   "metadata": {},
   "outputs": [],
   "source": []
  },
  {
   "cell_type": "code",
   "execution_count": 92,
   "id": "8ecfffda",
   "metadata": {},
   "outputs": [
    {
     "name": "stdout",
     "output_type": "stream",
     "text": [
      "Confusion Matrix:\n",
      "[[9026   84]\n",
      " [ 658   71]]\n"
     ]
    }
   ],
   "source": [
    "conf_matrix_bin = confusion_matrix(df_log_test_y_binz, predicted_classes_binx)\n",
    "print(\"Confusion Matrix:\")\n",
    "print(conf_matrix_bin)"
   ]
  },
  {
   "cell_type": "code",
   "execution_count": 95,
   "id": "42581170",
   "metadata": {},
   "outputs": [
    {
     "data": {
      "text/plain": [
       "Text(159.0, 0.5, 'Truth')"
      ]
     },
     "execution_count": 95,
     "metadata": {},
     "output_type": "execute_result"
    },
    {
     "data": {
      "image/png": "[encoded data removed]",
      "text/plain": [
       "<Figure size 1440x1080 with 2 Axes>"
      ]
     },
     "metadata": {
      "needs_background": "light"
     },
     "output_type": "display_data"
    }
   ],
   "source": [
    "plt.figure(figsize=(20,15))\n",
    "sns.heatmap(conf_matrix_bin ,annot=True, fmt='.0f')\n",
    "plt.xlabel('Predicted')\n",
    "plt.ylabel('Truth')"
   ]
  },
  {
   "cell_type": "markdown",
   "id": "f622775d",
   "metadata": {},
   "source": [
    "## Develop Code for Power Query Dataframe\n",
    "\n",
    "We will creat a dataframe for power query and pass that into power bi itself. First we must create a dataframe with both our predicted column and actual results. This will help visualize things."
   ]
  },
  {
   "cell_type": "code",
   "execution_count": 93,
   "id": "e7c7f118",
   "metadata": {},
   "outputs": [],
   "source": [
    "df_predic_true = pd.DataFrame(predicted_classes_binx)\n",
    "df_predic_true = df_predic_true.rename(columns={0: 'Predicted'})"
   ]
  },
  {
   "cell_type": "code",
   "execution_count": 94,
   "id": "90a4dca1",
   "metadata": {},
   "outputs": [],
   "source": [
    "df_predic_true['Actual'] = pd.DataFrame(df_log_test_y_binz).reset_index().drop(columns=['index'])\n"
   ]
  },
  {
   "cell_type": "code",
   "execution_count": 90,
   "id": "d8098496",
   "metadata": {},
   "outputs": [
    {
     "data": {
      "text/html": [
       "<div>\n",
       "<style scoped>\n",
       "    .dataframe tbody tr th:only-of-type {\n",
       "        vertical-align: middle;\n",
       "    }\n",
       "\n",
       "    .dataframe tbody tr th {\n",
       "        vertical-align: top;\n",
       "    }\n",
       "\n",
       "    .dataframe thead th {\n",
       "        text-align: right;\n",
       "    }\n",
       "</style>\n",
       "<table border=\"1\" class=\"dataframe\">\n",
       "  <thead>\n",
       "    <tr style=\"text-align: right;\">\n",
       "      <th></th>\n",
       "      <th>Predicted</th>\n",
       "      <th>Actual</th>\n",
       "    </tr>\n",
       "  </thead>\n",
       "  <tbody>\n",
       "    <tr>\n",
       "      <th>0</th>\n",
       "      <td>0</td>\n",
       "      <td>0</td>\n",
       "    </tr>\n",
       "    <tr>\n",
       "      <th>1</th>\n",
       "      <td>0</td>\n",
       "      <td>0</td>\n",
       "    </tr>\n",
       "    <tr>\n",
       "      <th>2</th>\n",
       "      <td>0</td>\n",
       "      <td>0</td>\n",
       "    </tr>\n",
       "    <tr>\n",
       "      <th>3</th>\n",
       "      <td>0</td>\n",
       "      <td>0</td>\n",
       "    </tr>\n",
       "    <tr>\n",
       "      <th>4</th>\n",
       "      <td>0</td>\n",
       "      <td>0</td>\n",
       "    </tr>\n",
       "    <tr>\n",
       "      <th>...</th>\n",
       "      <td>...</td>\n",
       "      <td>...</td>\n",
       "    </tr>\n",
       "    <tr>\n",
       "      <th>9834</th>\n",
       "      <td>0</td>\n",
       "      <td>1</td>\n",
       "    </tr>\n",
       "    <tr>\n",
       "      <th>9835</th>\n",
       "      <td>0</td>\n",
       "      <td>0</td>\n",
       "    </tr>\n",
       "    <tr>\n",
       "      <th>9836</th>\n",
       "      <td>0</td>\n",
       "      <td>0</td>\n",
       "    </tr>\n",
       "    <tr>\n",
       "      <th>9837</th>\n",
       "      <td>0</td>\n",
       "      <td>0</td>\n",
       "    </tr>\n",
       "    <tr>\n",
       "      <th>9838</th>\n",
       "      <td>0</td>\n",
       "      <td>0</td>\n",
       "    </tr>\n",
       "  </tbody>\n",
       "</table>\n",
       "<p>9839 rows × 2 columns</p>\n",
       "</div>"
      ],
      "text/plain": [
       "      Predicted  Actual\n",
       "0             0       0\n",
       "1             0       0\n",
       "2             0       0\n",
       "3             0       0\n",
       "4             0       0\n",
       "...         ...     ...\n",
       "9834          0       1\n",
       "9835          0       0\n",
       "9836          0       0\n",
       "9837          0       0\n",
       "9838          0       0\n",
       "\n",
       "[9839 rows x 2 columns]"
      ]
     },
     "execution_count": 90,
     "metadata": {},
     "output_type": "execute_result"
    }
   ],
   "source": [
    "df_predic_true"
   ]
  },
  {
   "cell_type": "code",
   "execution_count": null,
   "id": "174c59bd",
   "metadata": {},
   "outputs": [],
   "source": []
  },
  {
   "cell_type": "code",
   "execution_count": null,
   "id": "890f8650",
   "metadata": {},
   "outputs": [],
   "source": []
  },
  {
   "cell_type": "code",
   "execution_count": null,
   "id": "6acbfa9e",
   "metadata": {},
   "outputs": [],
   "source": []
  }
 ],
 "metadata": {
  "kernelspec": {
   "display_name": "Python 3",
   "language": "python",
   "name": "python3"
  },
  "language_info": {
   "codemirror_mode": {
    "name": "ipython",
    "version": 3
   },
   "file_extension": ".py",
   "mimetype": "text/x-python",
   "name": "python",
   "nbconvert_exporter": "python",
   "pygments_lexer": "ipython3",
   "version": "3.8.8"
  }
 },
 "nbformat": 4,
 "nbformat_minor": 5
}
